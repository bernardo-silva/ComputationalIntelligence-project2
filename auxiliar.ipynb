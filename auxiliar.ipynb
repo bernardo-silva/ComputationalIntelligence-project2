{
 "cells": [
  {
   "cell_type": "code",
   "execution_count": 21,
   "id": "f9e06b4b-6026-42da-9fda-518579b79fc0",
   "metadata": {},
   "outputs": [],
   "source": [
    "import itertools\n",
    "import math\n",
    "import numpy as np\n",
    "from tqdm.notebook import tqdm"
   ]
  },
  {
   "cell_type": "code",
   "execution_count": 8,
   "id": "deb7fe23-ef6b-4947-b965-9d66f2ae37fe",
   "metadata": {},
   "outputs": [],
   "source": [
    "permutations=list(itertools.permutations(range(1,11)))"
   ]
  },
  {
   "cell_type": "code",
   "execution_count": 10,
   "id": "071b091c-d8c1-4285-8df2-f10758a3ebc9",
   "metadata": {},
   "outputs": [],
   "source": [
    "dist_central = np.loadtxt(\"CustDist_WHCentral.csv\", skiprows=1, delimiter=\",\")[:,1:]\n",
    "xy_central   = np.loadtxt(\"CustXY_WHCentral.csv\", skiprows=1, delimiter=\",\")[:,1:].T\n",
    "orders       = np.loadtxt(\"CustOrd.csv\", skiprows=1, delimiter=\",\")[:,1]"
   ]
  },
  {
   "cell_type": "code",
   "execution_count": 24,
   "id": "f94083fa-c53c-45db-a889-4e07a534a557",
   "metadata": {},
   "outputs": [],
   "source": [
    "def evaluate(individual, distances, orders, max_capacity=1000):\n",
    "    \n",
    "    dist = distances[0, individual[0]]\n",
    "    capacity = max_capacity - orders[individual[0]]\n",
    "    \n",
    "    for i, f in zip(individual[:-1], individual[1:]):\n",
    "        if capacity < orders[f]:\n",
    "            dist += distances[i][0]\n",
    "            capacity = max_capacity\n",
    "            dist += distances[0][f]\n",
    "            # print(\"Ups, go back\")\n",
    "        else:\n",
    "            dist += distances[i][f]\n",
    "        \n",
    "        capacity -= orders[f]\n",
    "        # print(f\"Went from {i} to {f} and capacity is now {capacity} and dist is {dist}\")        \n",
    "    dist+=distances[0,individual[-1]]\n",
    "    return (dist,)"
   ]
  },
  {
   "cell_type": "code",
   "execution_count": 25,
   "id": "bb8aee11-a087-4089-8324-9674ddb9cefa",
   "metadata": {},
   "outputs": [
    {
     "data": {
      "text/plain": [
       "(489.0,)"
      ]
     },
     "execution_count": 25,
     "metadata": {},
     "output_type": "execute_result"
    }
   ],
   "source": [
    "evaluate(permutations[1],dist_central,orders,max_capacity=1000)"
   ]
  },
  {
   "cell_type": "code",
   "execution_count": 27,
   "id": "5092ab51-3ecb-4ad2-8553-40737818f653",
   "metadata": {},
   "outputs": [],
   "source": [
    "mini=1000\n",
    "best=permutations[0]\n",
    "for perm in permutations:\n",
    "    calc=evaluate(perm,dist_central[:11],orders[:11],max_capacity=1000)[0]\n",
    "    if calc<mini:\n",
    "        mini=calc\n",
    "        best=perm"
   ]
  },
  {
   "cell_type": "code",
   "execution_count": 28,
   "id": "71150ac0-3471-416d-a5d6-23e974052ea2",
   "metadata": {},
   "outputs": [
    {
     "data": {
      "text/plain": [
       "306.0"
      ]
     },
     "execution_count": 28,
     "metadata": {},
     "output_type": "execute_result"
    }
   ],
   "source": [
    "mini"
   ]
  },
  {
   "cell_type": "code",
   "execution_count": 29,
   "id": "6b9edb76-72e2-449f-8b82-f71f0f430461",
   "metadata": {},
   "outputs": [
    {
     "data": {
      "text/plain": [
       "(4, 7, 5, 8, 6, 9, 3, 2, 1, 10)"
      ]
     },
     "execution_count": 29,
     "metadata": {},
     "output_type": "execute_result"
    }
   ],
   "source": [
    "best"
   ]
  },
  {
   "cell_type": "code",
   "execution_count": null,
   "id": "bcfbfa75-4692-44b8-98cc-23fd3a5b4982",
   "metadata": {},
   "outputs": [],
   "source": []
  }
 ],
 "metadata": {
  "kernelspec": {
   "display_name": "Python 3 (ipykernel)",
   "language": "python",
   "name": "python3"
  },
  "language_info": {
   "codemirror_mode": {
    "name": "ipython",
    "version": 3
   },
   "file_extension": ".py",
   "mimetype": "text/x-python",
   "name": "python",
   "nbconvert_exporter": "python",
   "pygments_lexer": "ipython3",
   "version": "3.8.13"
  }
 },
 "nbformat": 4,
 "nbformat_minor": 5
}
