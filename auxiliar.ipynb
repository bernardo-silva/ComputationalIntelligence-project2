{
 "cells": [
  {
   "cell_type": "code",
   "execution_count": 1,
   "id": "f9e06b4b-6026-42da-9fda-518579b79fc0",
   "metadata": {},
   "outputs": [],
   "source": [
    "import itertools\n",
    "import math\n",
    "import numpy as np\n",
    "from tqdm.notebook import tqdm\n",
    "import matplotlib.pyplot as plt"
   ]
  },
  {
   "cell_type": "code",
   "execution_count": 4,
   "id": "071b091c-d8c1-4285-8df2-f10758a3ebc9",
   "metadata": {},
   "outputs": [],
   "source": [
    "dist_central = np.loadtxt(\"CustDist_WHCentral.csv\", skiprows=1, delimiter=\",\")[:,1:]\n",
    "xy_central   = np.loadtxt(\"CustXY_WHCentral.csv\", skiprows=1, delimiter=\",\")[:,1:].T\n",
    "orders       = np.loadtxt(\"CustOrd.csv\", skiprows=1, delimiter=\",\")[:,1]\n",
    "\n",
    "dist_corner  = np.loadtxt(\"CustDist_WHCorner.csv\", skiprows=1, delimiter=\",\")[:,1:]\n",
    "xy_corner    = np.loadtxt(\"CustXY_WHCorner.csv\", skiprows=1, delimiter=\",\")[:,1:].T"
   ]
  },
  {
   "cell_type": "code",
   "execution_count": 3,
   "id": "5165cbc6-4f7c-4245-816f-474bef4772fe",
   "metadata": {},
   "outputs": [],
   "source": [
    "def plot_route(route, coords, orders, max_capacity=1000):\n",
    "    fig, ax = plt.subplots(ncols=1, figsize=(4,4))\n",
    "\n",
    "    ax.set(xlabel=\"X\", ylabel=\"Y\", xlim=(0,100), ylim=(0,100))\n",
    "    ax.scatter(coords[:,0], coords[:,1], marker=\"o\", s=15, c=orders, cmap=\"inferno_r\")\n",
    "    ax.plot(coords[0][0], coords[0][1], ls=\"\", marker=\"o\", ms=10, c=\"red\")\n",
    "    ax.grid()\n",
    "\n",
    "    capacity = max_capacity - orders[route[0]]\n",
    "    ax.annotate(\"\", xytext=coords[0], xy=coords[route[0]], arrowprops=dict(arrowstyle=\"->\"))\n",
    "    \n",
    "    for i, f in zip(route, route[1:]):\n",
    "        if capacity < orders[f]:\n",
    "            capacity = max_capacity\n",
    "            ax.annotate(\"\", xytext=coords[i], xy=coords[0], arrowprops=dict(arrowstyle=\"->\"))\n",
    "            ax.annotate(\"\", xytext=coords[0], xy=coords[f], arrowprops=dict(arrowstyle=\"->\"))\n",
    "            # print(\"Ups, go back\")\n",
    "        else:\n",
    "            ax.annotate(\"\", xytext=coords[i], xy=coords[f], arrowprops=dict(arrowstyle=\"->\"))\n",
    "\n",
    "    ax.annotate(\"\", xytext=coords[route[-1]], xy=coords[0], arrowprops=dict(arrowstyle=\"->\"))\n",
    "    "
   ]
  },
  {
   "cell_type": "code",
   "execution_count": 4,
   "id": "deb7fe23-ef6b-4947-b965-9d66f2ae37fe",
   "metadata": {},
   "outputs": [],
   "source": [
    "permutations=np.array(list(itertools.permutations(range(1,11))))"
   ]
  },
  {
   "cell_type": "code",
   "execution_count": 2,
   "id": "f94083fa-c53c-45db-a889-4e07a534a557",
   "metadata": {},
   "outputs": [],
   "source": [
    "def evaluate(individual, distances, orders, max_capacity=1000):\n",
    "    \n",
    "    dist = distances[0, individual[0]]\n",
    "    capacity = max_capacity - orders[individual[0]]\n",
    "    \n",
    "    for i, f in zip(individual[:-1], individual[1:]):\n",
    "        if capacity < orders[f]:\n",
    "            dist += distances[i][0]\n",
    "            capacity = max_capacity\n",
    "            dist += distances[0][f]\n",
    "            # print(\"Ups, go back\")\n",
    "        else:\n",
    "            dist += distances[i][f]\n",
    "        \n",
    "        capacity -= orders[f]\n",
    "        # print(f\"Went from {i} to {f} and capacity is now {capacity} and dist is {dist}\")        \n",
    "    dist+=distances[0,individual[-1]]\n",
    "    return (dist,)"
   ]
  },
  {
   "cell_type": "code",
   "execution_count": 20,
   "id": "de9fa1e8-eac9-4532-9a6c-0cf80a025de6",
   "metadata": {},
   "outputs": [],
   "source": [
    "def evaluateMO(individual, distances, orders, max_capacity=1000):\n",
    "\n",
    "    dist = distances[0, individual[0]]\n",
    "    cost = max_capacity*dist\n",
    "    capacity = max_capacity - orders[individual[0]]\n",
    "\n",
    "    for i, f in zip(individual[:-1], individual[1:]):\n",
    "        if capacity < orders[f]:\n",
    "            cost += capacity*distances[i][0]\n",
    "            dist += distances[i][0]\n",
    "            capacity = max_capacity\n",
    "            cost += capacity*distances[0][f]\n",
    "            dist += distances[0][f]\n",
    "            # print(\"Ups, go back\")\n",
    "        else:\n",
    "            cost += capacity*distances[i][f]\n",
    "            dist += distances[i][f]\n",
    "\n",
    "        capacity -= orders[f]\n",
    "        # print(f\"Went from {i} to {f} and capacity is now {capacity} and dist is {dist}\")\n",
    "    cost += capacity*distances[0, individual[-1]]\n",
    "    dist += distances[0, individual[-1]]\n",
    "    return (dist, cost/1000)"
   ]
  },
  {
   "cell_type": "markdown",
   "id": "24c35662-fdc2-4ac6-b64e-4ccbe6d0db65",
   "metadata": {},
   "source": [
    "## Exhaustive search: best for 10 customers, Central Base"
   ]
  },
  {
   "cell_type": "code",
   "execution_count": 72,
   "id": "5092ab51-3ecb-4ad2-8553-40737818f653",
   "metadata": {},
   "outputs": [],
   "source": [
    "mini1=1000\n",
    "best1=permutations[0]\n",
    "fitness1=[]\n",
    "for perm in permutations:\n",
    "    calc=evaluate(perm,dist_central[:11],orders[:11],max_capacity=1000)[0]\n",
    "    fitness1+=[calc]\n",
    "    if calc<mini1:\n",
    "        mini1=calc\n",
    "        best1=perm"
   ]
  },
  {
   "cell_type": "code",
   "execution_count": 74,
   "id": "0cf16991-8ba7-4cad-ba2b-b51dc02951e1",
   "metadata": {},
   "outputs": [],
   "source": [
    "fitness1.sort()"
   ]
  },
  {
   "cell_type": "code",
   "execution_count": 75,
   "id": "b0304059-26b7-4e1a-aecb-a6ce02884480",
   "metadata": {},
   "outputs": [
    {
     "data": {
      "text/plain": [
       "(array([ 2.,  0.,  2.,  2.,  0.,  0.,  2.,  2.,  0.,  0.,  6.,  2.,  8.,\n",
       "         0.,  6., 10., 10., 16., 14., 18.]),\n",
       " array([306. , 307.7, 309.4, 311.1, 312.8, 314.5, 316.2, 317.9, 319.6,\n",
       "        321.3, 323. , 324.7, 326.4, 328.1, 329.8, 331.5, 333.2, 334.9,\n",
       "        336.6, 338.3, 340. ]),\n",
       " <BarContainer object of 20 artists>)"
      ]
     },
     "execution_count": 75,
     "metadata": {},
     "output_type": "execute_result"
    },
    {
     "data": {
      "image/png": "[encoded data removed]",
      "text/plain": [
       "<Figure size 640x480 with 1 Axes>"
      ]
     },
     "metadata": {},
     "output_type": "display_data"
    }
   ],
   "source": [
    "plt.hist(fitness1[:100],bins=20)"
   ]
  },
  {
   "cell_type": "code",
   "execution_count": 76,
   "id": "71150ac0-3471-416d-a5d6-23e974052ea2",
   "metadata": {},
   "outputs": [
    {
     "data": {
      "text/plain": [
       "306.0"
      ]
     },
     "execution_count": 76,
     "metadata": {},
     "output_type": "execute_result"
    }
   ],
   "source": [
    "mini1"
   ]
  },
  {
   "cell_type": "code",
   "execution_count": 77,
   "id": "6b9edb76-72e2-449f-8b82-f71f0f430461",
   "metadata": {},
   "outputs": [
    {
     "data": {
      "text/plain": [
       "(4, 7, 5, 8, 6, 9, 3, 2, 1, 10)"
      ]
     },
     "execution_count": 77,
     "metadata": {},
     "output_type": "execute_result"
    }
   ],
   "source": [
    "best1"
   ]
  },
  {
   "cell_type": "code",
   "execution_count": 84,
   "id": "305e0055-ce8b-485e-838a-2b5151ba862e",
   "metadata": {},
   "outputs": [
    {
     "data": {
      "image/png": "[encoded data removed]",
      "text/plain": [
       "<Figure size 400x400 with 1 Axes>"
      ]
     },
     "metadata": {},
     "output_type": "display_data"
    }
   ],
   "source": [
    "plot_route(best1, xy_central.T[:11], orders[:11])"
   ]
  },
  {
   "cell_type": "markdown",
   "id": "9c1234f4-d309-4b8f-8927-5c0dbb0cabb1",
   "metadata": {},
   "source": [
    "## Exhaustive search: best for 10 customers, corner base"
   ]
  },
  {
   "cell_type": "code",
   "execution_count": 78,
   "id": "bcfbfa75-4692-44b8-98cc-23fd3a5b4982",
   "metadata": {},
   "outputs": [],
   "source": [
    "mini2=1000\n",
    "best2=permutations[0]\n",
    "fitness2=[]\n",
    "for perm in permutations:\n",
    "    calc=evaluate(perm,dist_corner[:11],orders[:11],max_capacity=1000)[0]\n",
    "    fitness2+=[calc]\n",
    "    if calc<mini2:\n",
    "        mini2=calc\n",
    "        best2=perm"
   ]
  },
  {
   "cell_type": "code",
   "execution_count": 79,
   "id": "6d1c8bac-3a4a-42c5-b841-3fb2672b730e",
   "metadata": {},
   "outputs": [],
   "source": [
    "fitness2.sort()"
   ]
  },
  {
   "cell_type": "code",
   "execution_count": 80,
   "id": "a5704618-5f77-4dbb-9e76-52deca246698",
   "metadata": {},
   "outputs": [
    {
     "data": {
      "text/plain": [
       "342.0"
      ]
     },
     "execution_count": 80,
     "metadata": {},
     "output_type": "execute_result"
    }
   ],
   "source": [
    "mini2"
   ]
  },
  {
   "cell_type": "code",
   "execution_count": 81,
   "id": "2bdb3c0a-497c-42a1-8898-55f042408d44",
   "metadata": {},
   "outputs": [
    {
     "data": {
      "text/plain": [
       "(3, 2, 1, 10, 4, 7, 5, 8, 6, 9)"
      ]
     },
     "execution_count": 81,
     "metadata": {},
     "output_type": "execute_result"
    }
   ],
   "source": [
    "best2"
   ]
  },
  {
   "cell_type": "code",
   "execution_count": 82,
   "id": "5eebe07a-ac46-44ee-ae1c-0de4a47a4a10",
   "metadata": {},
   "outputs": [
    {
     "data": {
      "text/plain": [
       "(array([ 2.,  0.,  2.,  0.,  0.,  2.,  0.,  0.,  2.,  2.,  2.,  4.,  2.,\n",
       "        10.,  4., 12., 14.,  8., 14., 20.]),\n",
       " array([342.  , 344.45, 346.9 , 349.35, 351.8 , 354.25, 356.7 , 359.15,\n",
       "        361.6 , 364.05, 366.5 , 368.95, 371.4 , 373.85, 376.3 , 378.75,\n",
       "        381.2 , 383.65, 386.1 , 388.55, 391.  ]),\n",
       " <BarContainer object of 20 artists>)"
      ]
     },
     "execution_count": 82,
     "metadata": {},
     "output_type": "execute_result"
    },
    {
     "data": {
      "image/png": "[encoded data removed]",
      "text/plain": [
       "<Figure size 640x480 with 1 Axes>"
      ]
     },
     "metadata": {},
     "output_type": "display_data"
    }
   ],
   "source": [
    "plt.hist(fitness2[:100],bins=20)"
   ]
  },
  {
   "cell_type": "code",
   "execution_count": 83,
   "id": "3c56eaf1-d083-4140-a913-51f96f7be8e1",
   "metadata": {},
   "outputs": [
    {
     "data": {
      "image/png": "[encoded data removed]",
      "text/plain": [
       "<Figure size 400x400 with 1 Axes>"
      ]
     },
     "metadata": {},
     "output_type": "display_data"
    }
   ],
   "source": [
    "plot_route(best2, xy_corner.T[:11], orders[:11])"
   ]
  },
  {
   "cell_type": "code",
   "execution_count": 21,
   "id": "9ae0ebc7-0117-4dd0-923f-b2558c98158c",
   "metadata": {},
   "outputs": [
    {
     "name": "stdout",
     "output_type": "stream",
     "text": [
      "CPU times: user 54.9 s, sys: 36.6 ms, total: 54.9 s\n",
      "Wall time: 55 s\n"
     ]
    }
   ],
   "source": [
    "%%time\n",
    "sols = np.vectorize(lambda I: evaluateMO(I, dist_central, orders) ,signature=\"(n)->(),()\")(permutations)"
   ]
  },
  {
   "cell_type": "code",
   "execution_count": 22,
   "id": "28b06b16-b9c8-4637-9d45-05f4a44fff7a",
   "metadata": {},
   "outputs": [],
   "source": [
    "points = sols[0] < 400"
   ]
  },
  {
   "cell_type": "code",
   "execution_count": 23,
   "id": "4ec611b5-9f7c-4c7f-9954-06b18f56f6d6",
   "metadata": {},
   "outputs": [
    {
     "data": {
      "text/plain": [
       "<matplotlib.collections.PathCollection at 0x7fc5be8ad910>"
      ]
     },
     "execution_count": 23,
     "metadata": {},
     "output_type": "execute_result"
    },
    {
     "data": {
      "image/png": "[encoded data removed]",
      "text/plain": [
       "<Figure size 640x480 with 1 Axes>"
      ]
     },
     "metadata": {},
     "output_type": "display_data"
    }
   ],
   "source": [
    "plt.scatter(sols[0][points], sols[1][points],s=4**2)"
   ]
  },
  {
   "cell_type": "code",
   "execution_count": 67,
   "id": "6adb3f92-2aa6-4b06-8df9-6dc910761a42",
   "metadata": {},
   "outputs": [
    {
     "data": {
      "text/plain": [
       "array([3266589, 1308686, 3414815, ..., 1517396, 2272276, 2595956])"
      ]
     },
     "execution_count": 67,
     "metadata": {},
     "output_type": "execute_result"
    }
   ],
   "source": [
    "np.argsort(sols[0])"
   ]
  },
  {
   "cell_type": "code",
   "execution_count": 73,
   "id": "2e11cc52-ad84-493c-9048-db4f9d5103ef",
   "metadata": {},
   "outputs": [
    {
     "data": {
      "text/plain": [
       "(306.0,\n",
       " array([10,  1,  2,  3,  9,  6,  8,  5,  7,  4]),\n",
       " 306.0,\n",
       " array([ 4,  7,  5,  8,  6,  9,  3,  2,  1, 10]))"
      ]
     },
     "execution_count": 73,
     "metadata": {},
     "output_type": "execute_result"
    }
   ],
   "source": [
    "sols[0][3266589], permutations[3266589],\\\n",
    "sols[0][1308686], permutations[1308686]"
   ]
  },
  {
   "cell_type": "code",
   "execution_count": 5,
   "id": "aaa9c21c-8e86-4727-a847-7716f2a6c87b",
   "metadata": {},
   "outputs": [
    {
     "data": {
      "text/plain": [
       "(610.0,)"
      ]
     },
     "execution_count": 5,
     "metadata": {},
     "output_type": "execute_result"
    }
   ],
   "source": [
    "evaluate([23, 18,  6,  8, 19,  5, 21, 30,  7, 20,  4, 17, 28, 26, 13,\n",
    "            24, 22, 15, 11,  9, 27, 10,  1, 29, 16, 12, 25,  2, 14,  3], dist_corner, orders)"
   ]
  },
  {
   "cell_type": "code",
   "execution_count": 38,
   "id": "ca669a03-4489-4a7a-9dcc-9ec2bff7a645",
   "metadata": {},
   "outputs": [],
   "source": [
    "def evaluate2(individual, distances, orders, max_capacity=1000):\n",
    "\n",
    "    dist = distances[0][individual[0]]\n",
    "    capacity = max_capacity - orders[individual[0]]\n",
    "\n",
    "    for i, f in zip(individual[:-1], individual[1:]):\n",
    "        if capacity >= orders[f]:\n",
    "            dist += distances[i][f]\n",
    "        else:\n",
    "            dist += distances[i][0] + distances[0][f]\n",
    "            capacity = max_capacity\n",
    "\n",
    "        capacity -= orders[f]\n",
    "    dist += distances[0][individual[-1]]\n",
    "    return (dist,)"
   ]
  },
  {
   "cell_type": "code",
   "execution_count": 27,
   "id": "2d31d83c-3b04-4d64-adef-fb63ac74b1b4",
   "metadata": {},
   "outputs": [
    {
     "data": {
      "text/plain": [
       "Timer unit: 1e-06 s\n",
       "\n",
       "Total time: 0.00012 s\n",
       "File: /tmp/ipykernel_1177855/1301917035.py\n",
       "Function: evaluate2 at line 1\n",
       "\n",
       "Line #      Hits         Time  Per Hit   % Time  Line Contents\n",
       "==============================================================\n",
       "     1                                           def evaluate2(individual, distances, orders, max_capacity=1000):\n",
       "     2                                           \n",
       "     3         1          7.0      7.0      5.8      dist = distances[0, individual[0]]\n",
       "     4         1          4.0      4.0      3.3      capacity = max_capacity - orders[individual[0]]\n",
       "     5                                           \n",
       "     6        50         18.0      0.4     15.0      for i, f in zip(individual[:-1], individual[1:]):\n",
       "     7        49         20.0      0.4     16.7          if capacity >= orders[f]:\n",
       "     8        47         40.0      0.9     33.3              dist += distances[i][f]\n",
       "     9                                                   else:\n",
       "    10         2          4.0      2.0      3.3              dist += distances[i][0] + distances[0][f]\n",
       "    11         2          1.0      0.5      0.8              capacity = max_capacity\n",
       "    12                                           \n",
       "    13        49         25.0      0.5     20.8          capacity -= orders[f]\n",
       "    14         1          1.0      1.0      0.8      dist += distances[0, individual[-1]]\n",
       "    15         1          0.0      0.0      0.0      return (dist,)"
      ]
     },
     "metadata": {},
     "output_type": "display_data"
    }
   ],
   "source": [
    "%lprun -f evaluate2 evaluate2(range(1,51), dist_central, orders)"
   ]
  },
  {
   "cell_type": "code",
   "execution_count": 44,
   "id": "321c27c0-b2b1-44a3-ae0d-a116986b7a74",
   "metadata": {},
   "outputs": [
    {
     "name": "stdout",
     "output_type": "stream",
     "text": [
      "16.6 µs ± 465 ns per loop (mean ± std. dev. of 7 runs, 100,000 loops each)\n"
     ]
    }
   ],
   "source": [
    "%%timeit\n",
    "evaluate2(I, d, orders)"
   ]
  },
  {
   "cell_type": "code",
   "execution_count": 33,
   "id": "616e9647-f094-49c6-85fe-bdb1c100840d",
   "metadata": {},
   "outputs": [
    {
     "name": "stdout",
     "output_type": "stream",
     "text": [
      "27.5 µs ± 1.58 µs per loop (mean ± std. dev. of 7 runs, 10,000 loops each)\n"
     ]
    }
   ],
   "source": [
    "%%timeit\n",
    "evaluate2(range(1,51), dist_central, orders)"
   ]
  },
  {
   "cell_type": "code",
   "execution_count": 42,
   "id": "3e1b7306-7648-4e47-bde7-65a508161f83",
   "metadata": {},
   "outputs": [],
   "source": [
    "d=dist_central.tolist()\n",
    "I = list(range(1,51))"
   ]
  },
  {
   "cell_type": "code",
   "execution_count": 124,
   "id": "39a639e5-be72-4581-bc76-6fd966111bf3",
   "metadata": {},
   "outputs": [],
   "source": [
    "# def my_mut(ind):\n",
    "ind = np.array(range(1,11))\n",
    "cities = list(range(1, len(ind)+1))\n",
    "new_ind = np.insert(ind, [0,ind.size], 0)\n",
    "\n",
    "dists = np.array([1/(dist_central[a][b] + dist_central[b][c]) for a,b,c in zip(new_ind, new_ind[1:], new_ind[2:])])\n",
    "dists /= dists.sum()\n",
    "\n",
    "R = np.random.uniform(size=10)\n",
    "R /= R.sum()\n",
    "\n",
    "ind[R>dists] = np.random.permutation(ind[R>dists])"
   ]
  },
  {
   "cell_type": "code",
   "execution_count": null,
   "id": "075c7208-6575-419f-b3a8-f6ba0c3f3f50",
   "metadata": {},
   "outputs": [],
   "source": [
    "[45.0, 61.0, 68.0, 55.0, 44.0, 47.0, 49.0, 66.0, 61.0, 62.0]"
   ]
  },
  {
   "cell_type": "code",
   "execution_count": 56,
   "id": "40424617-9861-40e1-8471-c849da313a5d",
   "metadata": {},
   "outputs": [
    {
     "data": {
      "text/plain": [
       "array([0.05464732, 0.00090189, 0.00163775, 0.10709334, 0.11898825,\n",
       "       0.10309815, 0.14646343, 0.21277499, 0.19273167, 0.06166321])"
      ]
     },
     "execution_count": 56,
     "metadata": {},
     "output_type": "execute_result"
    }
   ],
   "source": [
    "r = np.random.uniform(size=10)\n",
    "r = r/r.sum()\n",
    "r"
   ]
  },
  {
   "cell_type": "code",
   "execution_count": 57,
   "id": "027cd184-0878-41e6-862b-946538c1b016",
   "metadata": {},
   "outputs": [
    {
     "data": {
      "text/plain": [
       "array([ True,  True,  True, False,  True,  True, False, False, False,\n",
       "        True])"
      ]
     },
     "execution_count": 57,
     "metadata": {},
     "output_type": "execute_result"
    }
   ],
   "source": [
    "r < dists"
   ]
  },
  {
   "cell_type": "code",
   "execution_count": 58,
   "id": "bfbb31b3-34ed-4b66-a013-3f793ca99e33",
   "metadata": {},
   "outputs": [],
   "source": [
    "import random"
   ]
  },
  {
   "cell_type": "code",
   "execution_count": 59,
   "id": "80bd4248-8c69-44b2-bff4-465dd9d7f8fe",
   "metadata": {},
   "outputs": [
    {
     "data": {
      "text/plain": [
       "[0.14174498291512744,\n",
       " 0.09631713249639834,\n",
       " 0.14363401163461662,\n",
       " 0.04832532884898938,\n",
       " 0.039509325446304325,\n",
       " 0.1095765969531882,\n",
       " 0.15422299100263945,\n",
       " 0.06875704088872311,\n",
       " 0.01410420534538934,\n",
       " 0.1838083844686238]"
      ]
     },
     "execution_count": 59,
     "metadata": {},
     "output_type": "execute_result"
    }
   ],
   "source": [
    "R = [random.uniform(0,1) for _ in range(len(ind))]\n",
    "R = [r/sum(R) for r in R]\n",
    "R"
   ]
  },
  {
   "cell_type": "code",
   "execution_count": 104,
   "id": "23718a6a-5caa-40c4-92d3-439fc9a721c7",
   "metadata": {},
   "outputs": [
    {
     "data": {
      "text/plain": [
       "array([ 10, 100,   1,   2, 200,   3,   9, 300,   6,   8, 400,   5,   7,\n",
       "         4])"
      ]
     },
     "execution_count": 104,
     "metadata": {},
     "output_type": "execute_result"
    }
   ],
   "source": [
    "np.insert(ind, [1,3,5,7], [100,200,300,400])"
   ]
  },
  {
   "cell_type": "code",
   "execution_count": 91,
   "id": "24f5b215-41be-4d08-aa5f-dbd14827615f",
   "metadata": {},
   "outputs": [
    {
     "data": {
      "text/plain": [
       "(array([0, 2, 4, 5]),)"
      ]
     },
     "execution_count": 91,
     "metadata": {},
     "output_type": "execute_result"
    }
   ],
   "source": [
    "np.where([True,False,True,False,True,True])"
   ]
  },
  {
   "cell_type": "code",
   "execution_count": 94,
   "id": "6f7cfaf8-59cd-446a-b07a-18b74e8e3f66",
   "metadata": {},
   "outputs": [
    {
     "data": {
      "text/plain": [
       "array([10,  5,  7,  2,  3,  4,  6,  9,  8,  1])"
      ]
     },
     "execution_count": 94,
     "metadata": {},
     "output_type": "execute_result"
    }
   ],
   "source": [
    "np.random.permutation(ind)"
   ]
  },
  {
   "cell_type": "code",
   "execution_count": 97,
   "id": "29f22c11-428e-4b69-ba82-a42a3ce8a448",
   "metadata": {},
   "outputs": [
    {
     "data": {
      "text/plain": [
       "array([ 9,  4,  1, 10])"
      ]
     },
     "execution_count": 97,
     "metadata": {},
     "output_type": "execute_result"
    }
   ],
   "source": [
    "np.random.permutation(ind[R>dists])"
   ]
  },
  {
   "cell_type": "code",
   "execution_count": 101,
   "id": "b3d682c4-e247-4ac4-8a0f-350878c45c11",
   "metadata": {},
   "outputs": [
    {
     "data": {
      "text/plain": [
       "array([0, 1, 4, 9])"
      ]
     },
     "execution_count": 101,
     "metadata": {},
     "output_type": "execute_result"
    }
   ],
   "source": [
    "np.where(R>dists)[0]"
   ]
  },
  {
   "cell_type": "code",
   "execution_count": 105,
   "id": "5d6c2570-75dd-4e72-bbc6-696d9ff34f9c",
   "metadata": {},
   "outputs": [],
   "source": [
    "ind[2:4] = [20,100] "
   ]
  },
  {
   "cell_type": "code",
   "execution_count": 106,
   "id": "13888ca6-b21e-4d93-a6af-85fdc6dba278",
   "metadata": {},
   "outputs": [
    {
     "data": {
      "text/plain": [
       "array([ 10,   1,  20, 100,   9,   6,   8,   5,   7,   4])"
      ]
     },
     "execution_count": 106,
     "metadata": {},
     "output_type": "execute_result"
    }
   ],
   "source": [
    "ind"
   ]
  },
  {
   "cell_type": "code",
   "execution_count": null,
   "id": "1af2d8a1-1065-400b-be9b-0d8d30a04b8d",
   "metadata": {},
   "outputs": [],
   "source": []
  }
 ],
 "metadata": {
  "kernelspec": {
   "display_name": "Python 3 (ipykernel)",
   "language": "python",
   "name": "python3"
  },
  "language_info": {
   "codemirror_mode": {
    "name": "ipython",
    "version": 3
   },
   "file_extension": ".py",
   "mimetype": "text/x-python",
   "name": "python",
   "nbconvert_exporter": "python",
   "pygments_lexer": "ipython3",
   "version": "3.8.13"
  }
 },
 "nbformat": 4,
 "nbformat_minor": 5
}
