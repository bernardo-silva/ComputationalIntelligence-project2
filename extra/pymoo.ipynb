{
 "cells": [
  {
   "cell_type": "code",
   "execution_count": 31,
   "id": "2ff0cb6e-006f-4726-924d-54897a9d6415",
   "metadata": {},
   "outputs": [],
   "source": [
    "from pymoo.problems.single.traveling_salesman import TravelingSalesman\n",
    "from pymoo.core.problem import ElementwiseProblem"
   ]
  },
  {
   "cell_type": "code",
   "execution_count": 12,
   "id": "b413839d-c505-4100-9c2d-128fc4e391bb",
   "metadata": {},
   "outputs": [],
   "source": [
    "import numpy as np\n",
    "dist_central = np.loadtxt(\"CustDist_WHCentral.csv\", skiprows=1, delimiter=\",\")[:,1:]\n",
    "xy_central   = np.loadtxt(\"CustXY_WHCentral.csv\", skiprows=1, delimiter=\",\")[:,1:].T\n",
    "\n",
    "orders       = np.loadtxt(\"CustOrd.csv\", skiprows=1, delimiter=\",\")[:,1]"
   ]
  },
  {
   "cell_type": "code",
   "execution_count": 117,
   "id": "f12cd163-97d3-49ae-9a68-c03c0f5f51ff",
   "metadata": {},
   "outputs": [],
   "source": [
    "class TravelingSalesman(ElementwiseProblem):\n",
    "\n",
    "    def __init__(self, distances, orders, n_cities, coords, **kwargs):\n",
    "        \"\"\"\n",
    "        A two-dimensional traveling salesman problem (TSP)\n",
    "\n",
    "        Parameters\n",
    "        ----------\n",
    "        cities : numpy.array\n",
    "            The cities with 2-dimensional coordinates provided by a matrix where where city is represented by a row.\n",
    "\n",
    "        \"\"\"\n",
    "        self.n_cities = n_cities\n",
    "        self.cities=coords\n",
    "\n",
    "        self.D = distances\n",
    "        self.O = orders\n",
    "\n",
    "        super(TravelingSalesman, self).__init__(\n",
    "            n_var=n_cities,\n",
    "            n_obj=2,\n",
    "            xl=1,\n",
    "            xu=n_cities+1,\n",
    "            vtype=int,\n",
    "            **kwargs\n",
    "        )\n",
    "\n",
    "    def _evaluate(self, x, out, *args, **kwargs):\n",
    "        out['F'] = self.evaluateMO(x, self.D, self.O)\n",
    "\n",
    "    def evaluateMO(self, individual, distances, orders, max_capacity=1000):\n",
    "        dist = distances[0, individual[0]]\n",
    "        cost = max_capacity*dist\n",
    "        capacity = max_capacity - orders[individual[0]]\n",
    "\n",
    "        for i, f in zip(individual[:-1], individual[1:]):\n",
    "            if capacity < orders[f]:\n",
    "                cost += capacity*distances[i][0]\n",
    "                dist += distances[i][0]\n",
    "                capacity = max_capacity\n",
    "                cost += capacity*distances[0][f]\n",
    "                dist += distances[0][f]\n",
    "                # print(\"Ups, go back\")\n",
    "            else:\n",
    "                cost += capacity*distances[i][f]\n",
    "                dist += distances[i][f]\n",
    "\n",
    "            capacity -= orders[f]\n",
    "            # print(f\"Went from {i} to {f} and capacity is now {capacity} and dist is {dist}\")        \n",
    "        cost+=capacity*distances[0,individual[-1]]\n",
    "        dist+=distances[0,individual[-1]]\n",
    "        return (dist,cost/1000)"
   ]
  },
  {
   "cell_type": "code",
   "execution_count": 124,
   "id": "39820d0a-ed82-481a-8eb6-7239d50e3069",
   "metadata": {},
   "outputs": [],
   "source": [
    "from pymoo.algorithms.moo.nsga2 import NSGA2\n",
    "from pymoo.algorithms.soo.nonconvex.ga import GA\n",
    "from pymoo.operators.sampling.rnd import PermutationRandomSampling\n",
    "from pymoo.operators.crossover.pcx import PCX\n",
    "from pymoo.operators.mutation.inversion import InversionMutation\n",
    "from pymoo.operators.selection.tournament import TournamentSelection\n",
    "\n",
    "algorithm = NSGA2(\n",
    "    pop_size=100,\n",
    "    n_offsprings=50,\n",
    "    sampling=PermutationRandomSampling(),\n",
    "    mutation=InversionMutation(),\n",
    "    crossover=OrderCrossover(),\n",
    "    eliminate_duplicates=False\n",
    ")"
   ]
  },
  {
   "cell_type": "code",
   "execution_count": 128,
   "id": "42f36c30-0dfe-498f-98c9-3615f57055da",
   "metadata": {},
   "outputs": [],
   "source": [
    "from pymoo.termination import get_termination\n",
    "\n",
    "termination = get_termination(\"n_evals\", 100_000)"
   ]
  },
  {
   "cell_type": "code",
   "execution_count": 129,
   "id": "716585b1-9d03-4449-b204-1fb23f487ad6",
   "metadata": {
    "scrolled": true,
    "tags": []
   },
   "outputs": [],
   "source": [
    "from pymoo.optimize import minimize\n",
    "\n",
    "problem = TravelingSalesman(dist_central, orders,30 , xy_central)\n",
    "res = minimize(problem,\n",
    "               algorithm,\n",
    "               termination,\n",
    "               seed=1,\n",
    "               save_history=True,\n",
    "               verbose=False)\n",
    "\n",
    "X = res.X\n",
    "F = res.F"
   ]
  },
  {
   "cell_type": "code",
   "execution_count": 130,
   "id": "da7cfa35-beb2-48a9-b0e2-bc350fb30275",
   "metadata": {},
   "outputs": [
    {
     "data": {
      "image/png": "[encoded data removed]",
      "text/plain": [
       "<Figure size 700x500 with 1 Axes>"
      ]
     },
     "metadata": {},
     "output_type": "display_data"
    }
   ],
   "source": [
    "plt.figure(figsize=(7, 5))\n",
    "plt.scatter(F[:, 0], F[:, 1], s=30, facecolors='none', edgecolors='blue')\n",
    "plt.title(\"Objective Space\")\n",
    "plt.show()"
   ]
  },
  {
   "cell_type": "code",
   "execution_count": 68,
   "id": "05d541f4-1f0c-415a-bc5d-fd470a777378",
   "metadata": {},
   "outputs": [
    {
     "name": "stdout",
     "output_type": "stream",
     "text": [
      "Traveling Time: 535.0\n"
     ]
    }
   ],
   "source": [
    "print(\"Traveling Time:\", np.round(res.F[0], 3))"
   ]
  },
  {
   "cell_type": "code",
   "execution_count": 132,
   "id": "dc6f3bce-0890-45db-b62b-d4ba335064a7",
   "metadata": {},
   "outputs": [
    {
     "data": {
      "text/plain": [
       "array([[568.  , 293.72],\n",
       "       [568.  , 293.72]])"
      ]
     },
     "execution_count": 132,
     "metadata": {},
     "output_type": "execute_result"
    }
   ],
   "source": [
    "F"
   ]
  },
  {
   "cell_type": "code",
   "execution_count": null,
   "id": "3fb0ab7a-5f6c-462b-9619-506b08e9201f",
   "metadata": {},
   "outputs": [],
   "source": []
  }
 ],
 "metadata": {
  "kernelspec": {
   "display_name": "Python 3 (ipykernel)",
   "language": "python",
   "name": "python3"
  },
  "language_info": {
   "codemirror_mode": {
    "name": "ipython",
    "version": 3
   },
   "file_extension": ".py",
   "mimetype": "text/x-python",
   "name": "python",
   "nbconvert_exporter": "python",
   "pygments_lexer": "ipython3",
   "version": "3.8.10"
  }
 },
 "nbformat": 4,
 "nbformat_minor": 5
}
