{
 "cells": [
  {
   "cell_type": "code",
   "execution_count": 2,
   "id": "b9c72698-5569-45ee-a151-72b9e44134af",
   "metadata": {},
   "outputs": [],
   "source": [
    "from TSP import plot_route\n",
    "import numpy as np"
   ]
  },
  {
   "cell_type": "code",
   "execution_count": 3,
   "id": "e3babf03-088e-4f89-89e3-c43da8c6e411",
   "metadata": {},
   "outputs": [],
   "source": [
    "dist_central = np.loadtxt(\"CustDist_WHCentral.csv\", skiprows=1, delimiter=\",\")[:,1:]\n",
    "xy_central   = np.loadtxt(\"CustXY_WHCentral.csv\", skiprows=1, delimiter=\",\")[:,1:].T\n",
    "\n",
    "dist_corner  = np.loadtxt(\"CustDist_WHCorner.csv\", skiprows=1, delimiter=\",\")[:,1:]\n",
    "xy_corner    = np.loadtxt(\"CustXY_WHCorner.csv\", skiprows=1, delimiter=\",\")[:,1:].T\n",
    "\n",
    "orders       = np.loadtxt(\"CustOrd.csv\", skiprows=1, delimiter=\",\")[:,1]"
   ]
  },
  {
   "cell_type": "code",
   "execution_count": 93,
   "id": "07f8a650-1da0-4f10-a607-3bde4f72f0ab",
   "metadata": {},
   "outputs": [],
   "source": [
    "def heuristic(coords):\n",
    "    SPLIT = 50\n",
    "    order = (coords[:,0] > SPLIT) * -coords[:,1] + (coords[:,0] <= SPLIT) * (coords[:,1] -1000) \n",
    "\n",
    "    return np.argsort(order) + 1"
   ]
  },
  {
   "cell_type": "code",
   "execution_count": 107,
   "id": "3e07a6c5-193f-4a6c-91b4-ecefb915fffc",
   "metadata": {},
   "outputs": [],
   "source": [
    "route = heuristic(xy_central.T[1:11])"
   ]
  },
  {
   "cell_type": "code",
   "execution_count": 108,
   "id": "f6ced1ed-18fd-4809-b30e-28245a9c0795",
   "metadata": {},
   "outputs": [
    {
     "data": {
      "image/png": "[encoded data removed]",
      "text/plain": [
       "<Figure size 400x400 with 1 Axes>"
      ]
     },
     "metadata": {},
     "output_type": "display_data"
    }
   ],
   "source": [
    "plot_route(route, coords=xy_central.T[:11], orders=orders[:11])"
   ]
  },
  {
   "cell_type": "code",
   "execution_count": 64,
   "id": "d5e4a653-2519-4e2c-bfb2-26049948c990",
   "metadata": {},
   "outputs": [
    {
     "data": {
      "text/plain": [
       "([[24.0, 25.0],\n",
       "  [15.0, 39.0],\n",
       "  [50.0, 50.0],\n",
       "  [26.0, 51.0],\n",
       "  [34.0, 70.0],\n",
       "  [14.0, 76.0],\n",
       "  [15.0, 90.0],\n",
       "  [40.0, 92.0],\n",
       "  [53.0, 95.0],\n",
       "  [72.0, 82.0],\n",
       "  [52.0, 65.0]],\n",
       " array([[50., 50.],\n",
       "        [40., 92.],\n",
       "        [14., 76.],\n",
       "        [15., 39.],\n",
       "        [72., 82.],\n",
       "        [15., 90.],\n",
       "        [26., 51.],\n",
       "        [53., 95.],\n",
       "        [34., 70.],\n",
       "        [24., 25.],\n",
       "        [52., 65.]]))"
      ]
     },
     "execution_count": 64,
     "metadata": {},
     "output_type": "execute_result"
    }
   ],
   "source": [
    "coords = xy_central.T[0:11]\n",
    "sorted(coords.tolist(),key=lambda x: x[1]-1000 if (x[0]<=50) else -x[1]),coords"
   ]
  },
  {
   "cell_type": "code",
   "execution_count": 85,
   "id": "1d587d9e-15ab-431a-a139-225fd661f619",
   "metadata": {},
   "outputs": [
    {
     "data": {
      "text/plain": [
       "array([-950., -908., -924., -961.,  -82., -910., -949.,  -95., -930.,\n",
       "       -975.,  -65.])"
      ]
     },
     "execution_count": 85,
     "metadata": {},
     "output_type": "execute_result"
    }
   ],
   "source": [
    "# coords[:,1]-1000 if (coords[:,0]<=50) else -coords[:,1]\n",
    "order = (coords[:,0] >50) * -coords[:,1] + (coords[:,0] <= 50) * (coords[:,1] -1000) \n",
    "order"
   ]
  },
  {
   "cell_type": "code",
   "execution_count": 92,
   "id": "d4bd5e66-64cf-451f-8cd3-8ff5f56ae286",
   "metadata": {},
   "outputs": [
    {
     "data": {
      "text/plain": [
       "array([[24., 25.],\n",
       "       [15., 39.],\n",
       "       [50., 50.],\n",
       "       [26., 51.],\n",
       "       [34., 70.],\n",
       "       [14., 76.],\n",
       "       [15., 90.],\n",
       "       [40., 92.],\n",
       "       [53., 95.],\n",
       "       [72., 82.],\n",
       "       [52., 65.]])"
      ]
     },
     "execution_count": 92,
     "metadata": {},
     "output_type": "execute_result"
    }
   ],
   "source": [
    "coords[np.argsort(order,axis=0)]"
   ]
  },
  {
   "cell_type": "code",
   "execution_count": 29,
   "id": "4365707f-e354-4ccd-a0fc-2609efde27da",
   "metadata": {},
   "outputs": [],
   "source": [
    "coords = coords.T"
   ]
  },
  {
   "cell_type": "code",
   "execution_count": 91,
   "id": "aa491a35-802a-4a94-a091-14475e704a2e",
   "metadata": {},
   "outputs": [
    {
     "data": {
      "text/plain": [
       "array([[40., 92.],\n",
       "       [50., 50.]])"
      ]
     },
     "execution_count": 91,
     "metadata": {},
     "output_type": "execute_result"
    }
   ],
   "source": [
    "coords[[1,0]]"
   ]
  },
  {
   "cell_type": "code",
   "execution_count": 46,
   "id": "8b6a14d5-4966-4214-859e-09f5c40f0561",
   "metadata": {},
   "outputs": [
    {
     "data": {
      "text/plain": [
       "array([[ 5,  2],\n",
       "       [ 9,  3],\n",
       "       [ 6,  9],\n",
       "       [ 8,  1],\n",
       "       [ 3,  0],\n",
       "       [ 0,  6],\n",
       "       [ 7, 10],\n",
       "       [10,  8],\n",
       "       [ 4,  4],\n",
       "       [ 2,  5],\n",
       "       [ 1,  7]])"
      ]
     },
     "execution_count": 46,
     "metadata": {},
     "output_type": "execute_result"
    }
   ],
   "source": [
    "np.argsort(coords,axis=0)"
   ]
  },
  {
   "cell_type": "code",
   "execution_count": null,
   "id": "a48093b7-62a3-4268-927a-e104c2e75504",
   "metadata": {},
   "outputs": [],
   "source": []
  }
 ],
 "metadata": {
  "kernelspec": {
   "display_name": "Python 3 (ipykernel)",
   "language": "python",
   "name": "python3"
  },
  "language_info": {
   "codemirror_mode": {
    "name": "ipython",
    "version": 3
   },
   "file_extension": ".py",
   "mimetype": "text/x-python",
   "name": "python",
   "nbconvert_exporter": "python",
   "pygments_lexer": "ipython3",
   "version": "3.8.10"
  }
 },
 "nbformat": 4,
 "nbformat_minor": 5
}
