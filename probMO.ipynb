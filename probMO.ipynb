{
 "cells": [
  {
   "cell_type": "markdown",
   "id": "4f7baafe-88ca-46da-ae97-11824807874e",
   "metadata": {
    "tags": []
   },
   "source": [
    "# Multiobjective problem"
   ]
  },
  {
   "cell_type": "code",
   "execution_count": 7,
   "id": "50cdc16d-34c6-4997-9f86-637094f11e6a",
   "metadata": {},
   "outputs": [],
   "source": [
    "import numpy as np\n",
    "import matplotlib.pyplot as plt"
   ]
  },
  {
   "cell_type": "code",
   "execution_count": 8,
   "id": "32d83181-6ba6-4333-b5ac-31bb0494cf22",
   "metadata": {},
   "outputs": [],
   "source": [
    "dist_central = np.loadtxt(\"CustDist_WHCentral.csv\", skiprows=1, delimiter=\",\")[:,1:]\n",
    "xy_central   = np.loadtxt(\"CustXY_WHCentral.csv\", skiprows=1, delimiter=\",\")[:,1:].T\n",
    "\n",
    "dist_corner  = np.loadtxt(\"CustDist_WHCorner.csv\", skiprows=1, delimiter=\",\")[:,1:]\n",
    "xy_corner    = np.loadtxt(\"CustXY_WHCorner.csv\", skiprows=1, delimiter=\",\")[:,1:].T\n",
    "\n",
    "orders       = np.loadtxt(\"CustOrd.csv\", skiprows=1, delimiter=\",\")[:,1]"
   ]
  },
  {
   "cell_type": "code",
   "execution_count": 9,
   "id": "346f6437-f209-49ee-97dc-5a3f4076be43",
   "metadata": {},
   "outputs": [],
   "source": [
    "import random\n",
    "from deap import tools, base, creator\n",
    "\n",
    "def PMX(ind1, ind2):\n",
    "    ind1 -= 1\n",
    "    ind2 -= 1\n",
    "    tools.cxPartialyMatched(ind1, ind2)\n",
    "    ind1 += 1\n",
    "    ind2 += 1\n",
    "\n",
    "    return (ind1, ind2)\n",
    "\n",
    "\n",
    "def inversion(ind):\n",
    "    #invpoint1 = random.randint(0, len(ind) - 2)\n",
    "    #invpoint2 = random.randint(invpoint1+1, len(ind)-1)\n",
    "    r1 = random.randint(0, len(ind) - 1)\n",
    "    r2 = random.randint(0, len(ind) - 1)\n",
    "    \n",
    "    invpoint1 , invpoint2 = min(r1,r2), max(r1,r2)\n",
    "    \n",
    "    ind[invpoint1:invpoint2+1]=list(reversed(ind[invpoint1:invpoint2+1]))"
   ]
  },
  {
   "cell_type": "code",
   "execution_count": 10,
   "id": "1e505eef-1f35-4f2c-a8e6-ffcdeb810c0d",
   "metadata": {},
   "outputs": [],
   "source": [
    "def evaluateMO(individual, distances, orders, max_capacity=1000):\n",
    "    \n",
    "    dist = distances[0, individual[0]]\n",
    "    cost = max_capacity*dist\n",
    "    capacity = max_capacity - orders[individual[0]]\n",
    "    \n",
    "    for i, f in zip(individual[:-1], individual[1:]):\n",
    "        if capacity < orders[f]:\n",
    "            cost += capacity*distances[i][0]\n",
    "            dist += distances[i][0]\n",
    "            capacity = max_capacity\n",
    "            cost += capacity*distances[0][f]\n",
    "            dist += distances[0][f]\n",
    "            # print(\"Ups, go back\")\n",
    "        else:\n",
    "            cost += capacity*distances[i][f]\n",
    "            dist += distances[i][f]\n",
    "        \n",
    "        capacity -= orders[f]\n",
    "        # print(f\"Went from {i} to {f} and capacity is now {capacity} and dist is {dist}\")        \n",
    "    cost+=capacity*distances[0,individual[-1]]\n",
    "    dist+=distances[0,individual[-1]]\n",
    "    return (dist,cost/1000)"
   ]
  },
  {
   "cell_type": "code",
   "execution_count": 11,
   "id": "f6703df2-2dbb-4ec4-8b32-755d5e123d2e",
   "metadata": {},
   "outputs": [],
   "source": [
    "def init_SO_EA(ind_size, distances, orders):\n",
    "    creator.create(\"FitnessMin\", base.Fitness, weights=(-1.0,-1.0))\n",
    "    creator.create(\"Individual\", np.ndarray, fitness=creator.FitnessMin)\n",
    "\n",
    "    toolbox = base.Toolbox()\n",
    "    toolbox.register(\"indices\", random.sample, range(1, ind_size+1), ind_size)\n",
    "    toolbox.register(\"individual\", tools.initIterate, creator.Individual,\n",
    "                     toolbox.indices)\n",
    "    toolbox.register(\"population\", tools.initRepeat, list, toolbox.individual)\n",
    "    \n",
    "    toolbox.register(\"evaluateMO\", evaluateMO, distances=distances, orders=orders)\n",
    "    \n",
    "    toolbox.register(\"mate\",   PMX)\n",
    "    #toolbox.register(\"select\", tools.selRoulette) \n",
    "    toolbox.register(\"select\", tools.selNSGA2) \n",
    "    toolbox.register(\"mutate\", tools.mutShuffleIndexes, indpb=0.2)\n",
    "    toolbox.register(\"invert\", inversion)\n",
    "    \n",
    "    return toolbox"
   ]
  },
  {
   "cell_type": "code",
   "execution_count": 64,
   "id": "3f0e32c7-793c-430e-9349-d1b388788ba2",
   "metadata": {},
   "outputs": [],
   "source": [
    "def run_SO_EA(ind_size, distances, orders, \n",
    "              pop_size, \n",
    "              CXPB, MUTPB, INVPB,\n",
    "              toolbox=None):\n",
    "    \n",
    "    if toolbox is None:\n",
    "        toolbox = init_SO_EA(ind_size, distances, orders)\n",
    "    \n",
    "    population = toolbox.population(n=pop_size)\n",
    "    population = toolbox.select(population, pop_size)\n",
    "    \n",
    "    fitnesses = list(map(toolbox.evaluateMO, population))\n",
    "\n",
    "    for ind, fit in zip(population, fitnesses):\n",
    "        ind.fitness.values = fit\n",
    "    # Generations     \n",
    "    g = 0\n",
    "    # means = []\n",
    "    mins = []\n",
    "    # maxs = []\n",
    "    listfits=[]\n",
    "    \n",
    "    while g < 10_000 // pop_size:\n",
    "        g += 1\n",
    "        # print(f\"----- Generation {g} -----\")\n",
    "        #population.sort(key=lambda x: x.fitness.values[0])\n",
    "        offspring = tools.selTournamentDCD(population, len(population))\n",
    "        offspring = list(map(toolbox.clone, offspring))\n",
    "\n",
    "            # Apply crossover and mutation on the offspring\n",
    "        for child1, child2 in zip(offspring[::2], offspring[1::2]):\n",
    "            if random.random() < CXPB:\n",
    "                toolbox.mate(child1, child2)\n",
    "                del child1.fitness.values\n",
    "                del child2.fitness.values\n",
    "\n",
    "        for mutant in offspring:\n",
    "            if random.random() < MUTPB:\n",
    "                toolbox.mutate(mutant)\n",
    "                del mutant.fitness.values\n",
    "\n",
    "        for mutant in offspring:\n",
    "            if random.random() < INVPB:\n",
    "                toolbox.invert(mutant)\n",
    "                del mutant.fitness.values\n",
    "                \n",
    "        # Evaluate the individuals with an invalid fitness\n",
    "        invalid_ind = [ind for ind in offspring if not ind.fitness.valid]\n",
    "        fitnesses = list(map(toolbox.evaluateMO, invalid_ind))\n",
    "\n",
    "        for ind, fit in zip(invalid_ind, fitnesses):\n",
    "            ind.fitness.values = fit\n",
    "            \n",
    "        population = toolbox.select(population + offspring, len(population))\n",
    "            # Gather all the fitnesses in one list and print the stats\n",
    "        fits = [ind.fitness.values for ind in population]\n",
    "        listfits += [fits]\n",
    "        #mean = np.mean(fits)\n",
    "        #std  = np.std(fits)\n",
    "        # means.append(mean)\n",
    "        #mins.append(min(fits))\n",
    "        # maxs.append(max(fits))\n",
    "    return listfits, population"
   ]
  },
  {
   "cell_type": "code",
   "execution_count": 67,
   "id": "d7ee36d7-fca4-4116-9141-2edb6f326ca2",
   "metadata": {},
   "outputs": [],
   "source": [
    "(listfits,population) = run_SO_EA(10, distances=dist_central, \n",
    "                                  orders=orders, \n",
    "                                  pop_size=100, \n",
    "                                  CXPB = 0.8, MUTPB = 0.2, INVPB=0.4,\n",
    "                                  toolbox=None)"
   ]
  },
  {
   "cell_type": "code",
   "execution_count": 68,
   "id": "58be7ac6-3519-4aa8-a6a7-8b76cc94c4ed",
   "metadata": {},
   "outputs": [
    {
     "data": {
      "image/png": "[encoded data removed]",
      "text/plain": [
       "<Figure size 640x480 with 1 Axes>"
      ]
     },
     "metadata": {},
     "output_type": "display_data"
    }
   ],
   "source": [
    "fits=listfits[-1]\n",
    "fits_x = [x[0] for x in fits]\n",
    "fits_y = [x[1] for x in fits]\n",
    "plt.scatter(fits_x,fits_y)\n",
    "plt.xlabel(\"distance\")\n",
    "plt.ylabel(\"cost / 1000\")\n",
    "plt.show()"
   ]
  },
  {
   "cell_type": "code",
   "execution_count": 71,
   "id": "1d6cda19-fb73-43c6-a239-594413cc332c",
   "metadata": {},
   "outputs": [],
   "source": [
    "(listfits,population) = run_SO_EA(30, distances=dist_central, \n",
    "                                  orders=orders, \n",
    "                                  pop_size=100, \n",
    "                                  CXPB = 0.8, MUTPB = 0.2, INVPB=0.4,\n",
    "                                  toolbox=None)"
   ]
  },
  {
   "cell_type": "code",
   "execution_count": 72,
   "id": "8a7596b1-dcb2-4b2a-9a18-dade7a096451",
   "metadata": {},
   "outputs": [
    {
     "data": {
      "image/png": "[encoded data removed]",
      "text/plain": [
       "<Figure size 640x480 with 1 Axes>"
      ]
     },
     "metadata": {},
     "output_type": "display_data"
    }
   ],
   "source": [
    "fits=listfits[-1]\n",
    "fits_x = [x[0] for x in fits]\n",
    "fits_y = [x[1] for x in fits]\n",
    "plt.scatter(fits_x,fits_y)\n",
    "plt.xlabel(\"distance\")\n",
    "plt.ylabel(\"cost / 1000\")\n",
    "plt.show()"
   ]
  },
  {
   "cell_type": "code",
   "execution_count": null,
   "id": "e553442e-7de8-4ba6-98b3-32a2683304b7",
   "metadata": {},
   "outputs": [],
   "source": []
  }
 ],
 "metadata": {
  "kernelspec": {
   "display_name": "Python 3 (ipykernel)",
   "language": "python",
   "name": "python3"
  },
  "language_info": {
   "codemirror_mode": {
    "name": "ipython",
    "version": 3
   },
   "file_extension": ".py",
   "mimetype": "text/x-python",
   "name": "python",
   "nbconvert_exporter": "python",
   "pygments_lexer": "ipython3",
   "version": "3.8.10"
  }
 },
 "nbformat": 4,
 "nbformat_minor": 5
}
